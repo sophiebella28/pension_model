{
 "cells": [
  {
   "cell_type": "code",
   "execution_count": 2,
   "metadata": {},
   "outputs": [],
   "source": [
    "from utils import *\n",
    "import json\n",
    "\n",
    "with open('notebook_settings.json', 'r') as f:\n",
    "    notebook_settings = json.load(f)\n",
    "    \n",
    "seed = 12345678910\n",
    "level = 'WARN' #for the logger\n",
    "\n",
    "#create dict of VM and input parameters\n",
    "params = {\n",
    "    'vm': {'seed': seed, 'runs': 1, 'ticks': 3, 'level': level},\n",
    "    'config': {'simudyne.core.export-path': 'Output_{0}'.format(seed)},\n",
    "    'input': {  \"nmDurationPensionFunds\": 1,\n",
    "                \"nmValuePensionFunds\": 1,\n",
    "                \"timeStep\": 1,\n",
    "                \"driftShortTerm\": 0.02,\n",
    "                \"volatilityShortTerm\": 0.001\n",
    "             },\n",
    "    'notebook_settings' : notebook_settings\n",
    "}"
   ]
  },
  {
   "cell_type": "code",
   "execution_count": 3,
   "metadata": {},
   "outputs": [
    {
     "ename": "ValueError",
     "evalue": "('{0} not supported.', 'Linux')",
     "output_type": "error",
     "traceback": [
      "\u001b[0;31m---------------------------------------------------------------------------\u001b[0m",
      "\u001b[0;31mValueError\u001b[0m                                Traceback (most recent call last)",
      "\u001b[1;32m/home/sophie/Documents/uni/project/git_folder/python/model_analysis.ipynb Cell 2\u001b[0m in \u001b[0;36m1\n\u001b[0;32m----> <a href='vscode-notebook-cell:/home/sophie/Documents/uni/project/git_folder/python/model_analysis.ipynb#W1sZmlsZQ%3D%3D?line=0'>1</a>\u001b[0m res, run_ids, dataset_ \u001b[39m=\u001b[39m run_sdk(params, notebook_settings[\u001b[39m'\u001b[39;49m\u001b[39mmaven_repo\u001b[39;49m\u001b[39m'\u001b[39;49m], java_cmd\u001b[39m=\u001b[39;49mnotebook_settings[\u001b[39m'\u001b[39;49m\u001b[39mjava_cmd\u001b[39;49m\u001b[39m'\u001b[39;49m])\n",
      "File \u001b[0;32m~/Documents/uni/project/git_folder/python/utils.py:30\u001b[0m, in \u001b[0;36mrun_sdk\u001b[0;34m(params, maven_repo, java_cmd, debug, delete_tempfile)\u001b[0m\n\u001b[1;32m     28\u001b[0m     _sep \u001b[39m=\u001b[39m \u001b[39m'\u001b[39m\u001b[39m:\u001b[39m\u001b[39m'\u001b[39m\n\u001b[1;32m     29\u001b[0m \u001b[39melse\u001b[39;00m:\n\u001b[0;32m---> 30\u001b[0m     \u001b[39mraise\u001b[39;00m \u001b[39mValueError\u001b[39;00m(\u001b[39m'\u001b[39m\u001b[39m{0}\u001b[39;00m\u001b[39m not supported.\u001b[39m\u001b[39m'\u001b[39m,\u001b[39mformat\u001b[39m(platform\u001b[39m.\u001b[39msystem()))\n\u001b[1;32m     32\u001b[0m _config \u001b[39m=\u001b[39m [java_cmd] \u001b[39m+\u001b[39m [\u001b[39m'\u001b[39m\u001b[39m-D\u001b[39m\u001b[39m{0}\u001b[39;00m\u001b[39m=\u001b[39m\u001b[39m{1}\u001b[39;00m\u001b[39m'\u001b[39m\u001b[39m.\u001b[39mformat(k, params[\u001b[39m'\u001b[39m\u001b[39mvm\u001b[39m\u001b[39m'\u001b[39m][k]) \u001b[39mfor\u001b[39;00m k \u001b[39min\u001b[39;00m params[\u001b[39m'\u001b[39m\u001b[39mvm\u001b[39m\u001b[39m'\u001b[39m]] \u001b[39m+\u001b[39m [\u001b[39m'\u001b[39m\u001b[39m-classpath\u001b[39m\u001b[39m'\u001b[39m,\n\u001b[1;32m     33\u001b[0m                                                                                          _sep\u001b[39m.\u001b[39mjoin([\u001b[39m'\u001b[39m\u001b[39mtarget/classes\u001b[39m\u001b[39m'\u001b[39m] \u001b[39m+\u001b[39m [\u001b[39m'\u001b[39m\u001b[39m{1}\u001b[39;00m\u001b[39m/\u001b[39m\u001b[39m{0}\u001b[39;00m\u001b[39m'\u001b[39m\u001b[39m.\u001b[39mformat(i, maven_repo) \u001b[39mfor\u001b[39;00m i \u001b[39min\u001b[39;00m _repos]),\n\u001b[1;32m     34\u001b[0m                                                                                          \u001b[39m'\u001b[39m\u001b[39mMainNoConsole\u001b[39m\u001b[39m'\u001b[39m,\n\u001b[1;32m     35\u001b[0m                                                                                          get_input(params[\u001b[39m'\u001b[39m\u001b[39mconfig\u001b[39m\u001b[39m'\u001b[39m]),\n\u001b[1;32m     36\u001b[0m                                                                                          get_input(params[\u001b[39m'\u001b[39m\u001b[39minput\u001b[39m\u001b[39m'\u001b[39m])]\n\u001b[1;32m     38\u001b[0m \u001b[39mif\u001b[39;00m platform\u001b[39m.\u001b[39msystem() \u001b[39m==\u001b[39m \u001b[39m'\u001b[39m\u001b[39mWindows\u001b[39m\u001b[39m'\u001b[39m:\n",
      "\u001b[0;31mValueError\u001b[0m: ('{0} not supported.', 'Linux')"
     ]
    }
   ],
   "source": [
    "res, run_ids, dataset_ = run_sdk(params, notebook_settings['maven_repo'], java_cmd=notebook_settings['java_cmd'])\n",
    "# OK so it seems your thing doesnt work\n",
    "# fortunately that isnt going to stop me anymore\n",
    "# because i dont care i dont care i dont care\n"
   ]
  },
  {
   "cell_type": "code",
   "execution_count": 4,
   "metadata": {},
   "outputs": [],
   "source": [
    "import os"
   ]
  },
  {
   "attachments": {},
   "cell_type": "markdown",
   "metadata": {},
   "source": [
    "Generate Aggregate Pension Fund Data"
   ]
  },
  {
   "cell_type": "code",
   "execution_count": null,
   "metadata": {},
   "outputs": [],
   "source": []
  },
  {
   "cell_type": "code",
   "execution_count": 31,
   "metadata": {},
   "outputs": [
    {
     "name": "stdout",
     "output_type": "stream",
     "text": [
      "b'/home/sophie/Documents/uni/project/git_folder/java_model/json_files/Multirun-1f991120-a94e-403e-85d0-516f9c795896/Simulation_Agent_PensionFund'\n",
      "       cashVal  _id  tick               time                          Run_no\n",
      "0  3000.000000    0     0  2018-01-01T00:00Z  strategy_comp000000000.parquet\n",
      "1  3000.000000    1     0  2018-01-01T00:00Z  strategy_comp000000000.parquet\n",
      "2     0.000000    0     1  2018-02-01T00:00Z  strategy_comp000000000.parquet\n",
      "3     0.000000    1     1  2018-02-01T00:00Z  strategy_comp000000000.parquet\n",
      "4     0.000000    0     2  2018-03-01T00:00Z  strategy_comp000000000.parquet\n",
      "5     0.000000    1     2  2018-03-01T00:00Z  strategy_comp000000000.parquet\n",
      "6    23.540828    0     3  2018-04-01T00:00Z  strategy_comp000000000.parquet\n",
      "7     4.238396    1     3  2018-04-01T00:00Z  strategy_comp000000000.parquet\n",
      "8     0.000000    0     4  2018-05-01T00:00Z  strategy_comp000000000.parquet\n",
      "9     0.000000    1     4  2018-05-01T00:00Z  strategy_comp000000000.parquet\n",
      "0  3000.000000    0     0  2018-01-01T00:00Z  strategy_comp000000001.parquet\n",
      "1  3000.000000    1     0  2018-01-01T00:00Z  strategy_comp000000001.parquet\n",
      "2     0.000000    0     1  2018-02-01T00:00Z  strategy_comp000000001.parquet\n",
      "3     0.000000    1     1  2018-02-01T00:00Z  strategy_comp000000001.parquet\n",
      "4     0.000000    0     2  2018-03-01T00:00Z  strategy_comp000000001.parquet\n",
      "5     0.000000    1     2  2018-03-01T00:00Z  strategy_comp000000001.parquet\n",
      "6     0.000000    0     3  2018-04-01T00:00Z  strategy_comp000000001.parquet\n",
      "7     0.000000    1     3  2018-04-01T00:00Z  strategy_comp000000001.parquet\n",
      "8     0.000000    0     4  2018-05-01T00:00Z  strategy_comp000000001.parquet\n",
      "9     0.000000    1     4  2018-05-01T00:00Z  strategy_comp000000001.parquet\n"
     ]
    },
    {
     "data": {
      "text/plain": [
       "_id  tick\n",
       "0    0       3000.000000\n",
       "     1          0.000000\n",
       "     2          0.000000\n",
       "     3         11.770414\n",
       "     4          0.000000\n",
       "1    0       3000.000000\n",
       "     1          0.000000\n",
       "     2          0.000000\n",
       "     3          2.119198\n",
       "     4          0.000000\n",
       "Name: cashVal, dtype: float64"
      ]
     },
     "execution_count": 31,
     "metadata": {},
     "output_type": "execute_result"
    }
   ],
   "source": [
    "output_dir = \"/home/sophie/Documents/uni/project/git_folder/java_model/json_files/\"\n",
    "run_seed = \"Multirun-1f991120-a94e-403e-85d0-516f9c795896\"\n",
    "folder_name = \"Simulation_Agent_PensionFund\"\n",
    "absolute_path = output_dir + run_seed + \"/\" + folder_name\n",
    "directory = os.fsencode(absolute_path)\n",
    "print(directory)\n",
    "dfs = []\n",
    "for file in os.listdir(directory):\n",
    "     filename = os.fsdecode(file)\n",
    "     if filename.endswith(\".parquet\") or filename.endswith(\".py\"): \n",
    "        df = pd.read_parquet(absolute_path + \"/\" + filename)\n",
    "        df[\"Run_no\"] = [filename ] * len(df.index)\n",
    "        dfs.append(df)\n",
    "\n",
    "overall_df = pd.concat(dfs)\n",
    "print(overall_df)\n",
    "\n",
    "# Now I want to:\n",
    "# 1. split by id1 and id2\n",
    "# report agent type from java model so i can split on the string instead for nicer code\n",
    "# 2. average the cashVal at each tick\n",
    "# 3. plot cashVal against tick for each strategy\n",
    "\n",
    "grouped = overall_df.groupby([\"_id\", \"tick\"])[\"cashVal\"].mean()\n",
    "\n",
    "grouped"
   ]
  }
 ],
 "metadata": {
  "kernelspec": {
   "display_name": "projectpython",
   "language": "python",
   "name": "python3"
  },
  "language_info": {
   "codemirror_mode": {
    "name": "ipython",
    "version": 3
   },
   "file_extension": ".py",
   "mimetype": "text/x-python",
   "name": "python",
   "nbconvert_exporter": "python",
   "pygments_lexer": "ipython3",
   "version": "3.10.9"
  },
  "orig_nbformat": 4
 },
 "nbformat": 4,
 "nbformat_minor": 2
}
